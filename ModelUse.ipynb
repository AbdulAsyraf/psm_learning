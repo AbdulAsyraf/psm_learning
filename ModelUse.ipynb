{
 "cells": [
  {
   "cell_type": "code",
   "execution_count": 1,
   "metadata": {},
   "outputs": [],
   "source": [
    "import tensorflow as tf\n",
    "import pandas as pd\n",
    "import csv\n",
    "import joblib\n",
    "from sklearn.preprocessing import MinMaxScaler\n",
    "import numpy as np\n",
    "import os\n",
    "from tensorflow.keras.models import load_model"
   ]
  },
  {
   "cell_type": "code",
   "execution_count": 3,
   "metadata": {},
   "outputs": [],
   "source": [
    "# read a submitted csv file\n",
    "data_dir = \"/home/acapskyrim/projects/psm/psm_learn/data\"\n",
    "\n",
    "for filename in os.listdir(data_dir):\n",
    "    owner = filename\n",
    "    dataset = pd.read_csv(os.path.join(data_dir, filename), parse_dates=[0])\n",
    "    dataset.columns = ['Time', 'Beacon_1', 'Beacon_2', 'Beacon_3', 'Beacon_4', 'Beacon_5']\n",
    "\n",
    "dataset.set_index('Time', inplace=True)"
   ]
  },
  {
   "cell_type": "code",
   "execution_count": 7,
   "metadata": {},
   "outputs": [],
   "source": [
    "# normalize data\n",
    "scaler = joblib.load(\"./scaler_data\")\n",
    "threshold = joblib.load(\"./threshold\")\n",
    "x = scaler.transform(dataset)\n",
    "x = x.reshape(x.shape[0], 1, x.shape[1])"
   ]
  },
  {
   "cell_type": "code",
   "execution_count": 28,
   "metadata": {},
   "outputs": [
    {
     "name": "stdout",
     "output_type": "stream",
     "text": [
      "2\n"
     ]
    }
   ],
   "source": [
    "data_out = {}\n",
    "\n",
    "with tf.Graph().as_default():\n",
    "    model = load_model(\"user1_model.h5\")\n",
    "    data_out[\"Analysis\"] = []\n",
    "#     model = define_model()\n",
    "    preds = model.predict(x)\n",
    "    preds = preds.reshape(preds.shape[0], preds.shape[2])\n",
    "    preds = pd.DataFrame(preds, columns = dataset.columns)\n",
    "    preds.index = dataset.index\n",
    "    \n",
    "    scored = pd.DataFrame(index=dataset.index)\n",
    "    yhat = x.reshape(x.shape[0], x.shape[2])\n",
    "    scored['Loss_mae'] = np.mean(np.abs(yhat - preds), axis=1)\n",
    "    scored['Threshold'] = threshold\n",
    "    scored['Anomaly'] = scored['Loss_mae'] > scored['Threshold']\n",
    "    \n",
    "    triggered = []\n",
    "    for i in range(len(scored)):\n",
    "        temp = scored.iloc[i]\n",
    "        if temp.iloc[2]:\n",
    "            triggered.append(temp)\n",
    "    print(len(triggered))\n",
    "    if len(triggered) > 0:\n",
    "        for j in range(len(triggered)):\n",
    "            out = triggered[j]\n",
    "            result = {\"Anomaly\": True, \"date\": f\"{out.name.year:02d}\" + \"-\" + f\"{out.name.month:02d}\" + \"-\" + f\"{out.name.day:02d}\", \"time\": f\"{out.name.hour:02d}\" + \":\" + f\"{out.name.minute:02d}\"}\n",
    "            data_out[\"Analysis\"].append(result)"
   ]
  },
  {
   "cell_type": "code",
   "execution_count": 29,
   "metadata": {},
   "outputs": [
    {
     "data": {
      "text/plain": [
       "{'Analysis': [{'Anomaly': True, 'date': '2020-01-08', 'time': '09:00'},\n",
       "  {'Anomaly': True, 'date': '2020-01-08', 'time': '17:00'}]}"
      ]
     },
     "execution_count": 29,
     "metadata": {},
     "output_type": "execute_result"
    }
   ],
   "source": [
    "data_out"
   ]
  },
  {
   "cell_type": "code",
   "execution_count": null,
   "metadata": {},
   "outputs": [],
   "source": []
  }
 ],
 "metadata": {
  "kernelspec": {
   "display_name": "Python 3",
   "language": "python",
   "name": "python3"
  },
  "language_info": {
   "codemirror_mode": {
    "name": "ipython",
    "version": 3
   },
   "file_extension": ".py",
   "mimetype": "text/x-python",
   "name": "python",
   "nbconvert_exporter": "python",
   "pygments_lexer": "ipython3",
   "version": "3.8.5"
  }
 },
 "nbformat": 4,
 "nbformat_minor": 4
}
