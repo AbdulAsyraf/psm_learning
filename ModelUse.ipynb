{
 "cells": [
  {
   "cell_type": "code",
   "execution_count": 7,
   "metadata": {},
   "outputs": [],
   "source": [
    "import tensorflow as tf\n",
    "import pandas as pd\n",
    "import csv\n",
    "import joblib\n",
    "from sklearn.preprocessing import MinMaxScaler\n",
    "import numpy as np\n",
    "import os\n",
    "from tensorflow.keras.models import load_model\n",
    "\n",
    "physical_devices = tf.config.list_physical_devices('GPU')\n",
    "\n",
    "tf.config.experimental.set_memory_growth(physical_devices[0], True)"
   ]
  },
  {
   "cell_type": "code",
   "execution_count": 8,
   "metadata": {},
   "outputs": [],
   "source": [
    "# read a submitted csv file\n",
    "data_dir = \"/home/acapskyrim/projects/psm/psm_learn/data\"\n",
    "username = \"user1\"\n",
    "model_name = username + \"_model.h5\"\n",
    "\n",
    "for filename in os.listdir(data_dir):\n",
    "    if username in filename:\n",
    "        dataset = pd.read_csv(os.path.join(data_dir, filename), parse_dates=[0])\n",
    "        dataset.columns = ['Time', 'Beacon_1', 'Beacon_2', 'Beacon_3', 'Beacon_4', 'Beacon_5']\n",
    "\n",
    "dataset.set_index('Time', inplace=True)"
   ]
  },
  {
   "cell_type": "code",
   "execution_count": 9,
   "metadata": {},
   "outputs": [],
   "source": [
    "# normalize data\n",
    "scaler_name = \"./\" + username + \"_scaler_data\"\n",
    "threshold_name = \"./\" + username + \"_threshold\"\n",
    "scaler = joblib.load(scaler_name)\n",
    "threshold = joblib.load(threshold_name)\n",
    "x = scaler.transform(dataset)\n",
    "x = x.reshape(x.shape[0], 1, x.shape[1])"
   ]
  },
  {
   "cell_type": "code",
   "execution_count": 10,
   "metadata": {},
   "outputs": [
    {
     "name": "stdout",
     "output_type": "stream",
     "text": [
      "WARNING:tensorflow:Layer lstm will not use cuDNN kernel since it doesn't meet the cuDNN kernel criteria. It will use generic GPU kernel as fallback when running on GPU\n",
      "WARNING:tensorflow:Layer lstm_1 will not use cuDNN kernel since it doesn't meet the cuDNN kernel criteria. It will use generic GPU kernel as fallback when running on GPU\n",
      "WARNING:tensorflow:Layer lstm_2 will not use cuDNN kernel since it doesn't meet the cuDNN kernel criteria. It will use generic GPU kernel as fallback when running on GPU\n",
      "WARNING:tensorflow:Layer lstm_3 will not use cuDNN kernel since it doesn't meet the cuDNN kernel criteria. It will use generic GPU kernel as fallback when running on GPU\n",
      "0\n"
     ]
    }
   ],
   "source": [
    "data_out = {}\n",
    "\n",
    "with tf.Graph().as_default():\n",
    "    model = load_model(model_name)\n",
    "    data_out[\"Analysis\"] = []\n",
    "#     model = define_model()\n",
    "    preds = model.predict(x)\n",
    "    preds = preds.reshape(preds.shape[0], preds.shape[2])\n",
    "    preds = pd.DataFrame(preds, columns = dataset.columns)\n",
    "    preds.index = dataset.index\n",
    "    \n",
    "    scored = pd.DataFrame(index=dataset.index)\n",
    "    yhat = x.reshape(x.shape[0], x.shape[2])\n",
    "    scored['Loss_mae'] = np.mean(np.abs(yhat - preds), axis=1)\n",
    "    scored['Threshold'] = threshold\n",
    "    scored['Anomaly'] = scored['Loss_mae'] > scored['Threshold']\n",
    "    \n",
    "    triggered = []\n",
    "    for i in range(len(scored)):\n",
    "        temp = scored.iloc[i]\n",
    "        if temp.iloc[2]:\n",
    "            triggered.append(temp)\n",
    "    print(len(triggered))\n",
    "    if len(triggered) > 0:\n",
    "        for j in range(len(triggered)):\n",
    "            out = triggered[j]\n",
    "            result = {\"Anomaly\": True, \"date\": f\"{out.name.year:02d}\" + \"-\" + f\"{out.name.month:02d}\" + \"-\" + f\"{out.name.day:02d}\", \"time\": f\"{out.name.hour:02d}\" + \":\" + f\"{out.name.minute:02d}\"}\n",
    "            data_out[\"Analysis\"].append(result)"
   ]
  },
  {
   "cell_type": "code",
   "execution_count": 11,
   "metadata": {},
   "outputs": [
    {
     "data": {
      "text/plain": [
       "{'Analysis': []}"
      ]
     },
     "execution_count": 11,
     "metadata": {},
     "output_type": "execute_result"
    }
   ],
   "source": [
    "data_out"
   ]
  },
  {
   "cell_type": "code",
   "execution_count": 12,
   "metadata": {},
   "outputs": [],
   "source": [
    "tf.keras.backend.clear_session()"
   ]
  },
  {
   "cell_type": "code",
   "execution_count": null,
   "metadata": {},
   "outputs": [],
   "source": []
  }
 ],
 "metadata": {
  "kernelspec": {
   "display_name": "Python 3",
   "language": "python",
   "name": "python3"
  },
  "language_info": {
   "codemirror_mode": {
    "name": "ipython",
    "version": 3
   },
   "file_extension": ".py",
   "mimetype": "text/x-python",
   "name": "python",
   "nbconvert_exporter": "python",
   "pygments_lexer": "ipython3",
   "version": "3.8.5"
  }
 },
 "nbformat": 4,
 "nbformat_minor": 4
}
