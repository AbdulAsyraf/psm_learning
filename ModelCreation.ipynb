{
 "cells": [
  {
   "cell_type": "code",
   "execution_count": 3,
   "metadata": {},
   "outputs": [],
   "source": [
    "import os\n",
    "import tensorflow as tf\n",
    "import csv\n",
    "import pandas as pd\n",
    "import numpy as np\n",
    "from sklearn.preprocessing import MinMaxScaler\n",
    "import joblib\n",
    "import seaborn as sns\n",
    "import matplotlib.pyplot as plt"
   ]
  },
  {
   "cell_type": "code",
   "execution_count": 4,
   "metadata": {},
   "outputs": [
    {
     "name": "stdout",
     "output_type": "stream",
     "text": [
      "2.3.0\n"
     ]
    }
   ],
   "source": [
    "print(tf.__version__)"
   ]
  },
  {
   "cell_type": "code",
   "execution_count": 6,
   "metadata": {},
   "outputs": [],
   "source": [
    "# import csv files\n",
    "# problem with this method is that it imports in a weird order, as in jan 1 is not always the first file imported, and jan 2 won't be the second even if jan 1 is the first\n",
    "data_dir = '/home/acapskyrim/psmStuff/psm_generate/data'\n",
    "combined_data = pd.DataFrame()\n",
    "counter = 0 # this is just for getting pretty plots\n",
    "\n",
    "for filename in os.listdir(data_dir):\n",
    "    dataset = pd.read_csv(os.path.join(data_dir, filename), parse_dates=[0])\n",
    "    dataset.columns = ['Time', 'Beacon_1', 'Beacon_2', 'Beacon_3', 'Beacon_4', 'Beacon_5']\n",
    "    combined_data = combined_data.append(dataset)\n",
    "#     counter = counter + 1\n",
    "#     if counter == 1:\n",
    "#         break\n",
    "\n",
    "combined_data.set_index('Time', inplace=True)"
   ]
  },
  {
   "cell_type": "code",
   "execution_count": 7,
   "metadata": {},
   "outputs": [
    {
     "name": "stdout",
     "output_type": "stream",
     "text": [
      "(7576, 5) (842, 5)\n"
     ]
    }
   ],
   "source": [
    "# set train and test samples\n",
    "train_size = int(len(combined_data) * 0.90)\n",
    "test_size = len(combined_data) - train_size\n",
    "train, test = combined_data.iloc[0:train_size], combined_data.iloc[train_size:len(combined_data)]\n",
    "print(train.shape, test.shape)"
   ]
  },
  {
   "cell_type": "code",
   "execution_count": null,
   "metadata": {},
   "outputs": [],
   "source": [
    "# visualize data\n",
    "fig, ax = plt.subplots(figsize=(14, 6), dpi=80)\n",
    "ax.plot(train['Beacon_1'], label=\"Beacon 1\", color='blue', animated=True, linewidth=1)\n",
    "ax.plot(train['Beacon_2'], label=\"Beacon 3\", color='red', animated=True, linewidth=1)\n",
    "ax.plot(train['Beacon_3'], label=\"Beacon 3\", color='green', animated=True, linewidth=1)\n",
    "ax.plot(train['Beacon_4'], label=\"Beacon 4\", color='black', animated=True, linewidth=1)\n",
    "ax.plot(train['Beacon_5'], label=\"Beacon 5\", color='yellow', animated=True, linewidth=1)\n",
    "\n",
    "plt.legend(loc='lower left')\n",
    "plt.show()"
   ]
  },
  {
   "cell_type": "code",
   "execution_count": null,
   "metadata": {},
   "outputs": [],
   "source": [
    "# fourier transforms. just out of curiosity\n",
    "train_fft = np.fft.fft(train)\n",
    "test_fft = np.fft.fft(test)\n",
    "\n",
    "fig, ax = plt.subplots(figsize=(14, 6), dpi=80)\n",
    "ax.plot(train_fft[:,0].real, label=\"Beacon 1\", color='blue', animated=True, linewidth=1)\n",
    "ax.plot(train_fft[:,1].real, label=\"Beacon 3\", color='red', animated=True, linewidth=1)\n",
    "ax.plot(train_fft[:,2].real, label=\"Beacon 3\", color='green', animated=True, linewidth=1)\n",
    "ax.plot(train_fft[:,3].real, label=\"Beacon 4\", color='black', animated=True, linewidth=1)\n",
    "ax.plot(train_fft[:,4].real, label=\"Beacon 5\", color='yellow', animated=True, linewidth=1)\n",
    "\n",
    "plt.legend(loc='lower left')\n",
    "plt.show()"
   ]
  },
  {
   "cell_type": "code",
   "execution_count": 8,
   "metadata": {},
   "outputs": [
    {
     "data": {
      "text/plain": [
       "['scaler_data']"
      ]
     },
     "execution_count": 8,
     "metadata": {},
     "output_type": "execute_result"
    }
   ],
   "source": [
    "#reserved for normalization if needed\n",
    "scaler = MinMaxScaler()\n",
    "x_train = scaler.fit_transform(train)\n",
    "x_test = scaler.transform(test)\n",
    "scaler_filename = \"scaler_data\"\n",
    "joblib.dump(scaler, scaler_filename)"
   ]
  },
  {
   "cell_type": "code",
   "execution_count": 9,
   "metadata": {},
   "outputs": [],
   "source": [
    "#reshaping the data\n",
    "x_train = x_train.reshape(x_train.shape[0], 1, x_train.shape[1])\n",
    "x_test = x_test.reshape(x_test.shape[0], 1, x_test.shape[1])"
   ]
  },
  {
   "cell_type": "code",
   "execution_count": 10,
   "metadata": {},
   "outputs": [
    {
     "name": "stdout",
     "output_type": "stream",
     "text": [
      "Train shape:  (7576, 1, 5)\n",
      "Test shape:  (842, 1, 5)\n"
     ]
    }
   ],
   "source": [
    "#can't reshape an already reshaped shape. so printing is in separate cell\n",
    "print(\"Train shape: \", x_train.shape)\n",
    "print(\"Test shape: \", x_test.shape)\n",
    "num_features = x_train.shape[2]"
   ]
  },
  {
   "cell_type": "code",
   "execution_count": 11,
   "metadata": {},
   "outputs": [],
   "source": [
    "# Here's the fun stuff. Neural network definition. we usin autoencoders for this\n",
    "# first one is using LSTM, more with others later\n",
    "from tensorflow.keras.layers import Input, Dropout, Dense, LSTM, TimeDistributed, RepeatVector\n",
    "from tensorflow.keras.models import Model\n",
    "from tensorflow.keras import regularizers, callbacks\n",
    "\n",
    "def autoencoder_model(x, num):\n",
    "    inputs = Input(shape=(x.shape[1], x.shape[2]))\n",
    "    l1 = LSTM(num*num, activation='relu', return_sequences=True,\n",
    "             kernel_regularizer=regularizers.l2(0.00))(inputs)\n",
    "    l2 = LSTM(num, activation='relu', return_sequences=False)(l1)\n",
    "    l3 = RepeatVector(x.shape[1])(l2)\n",
    "    l4 = LSTM(num, activation='relu', return_sequences=True)(l3)\n",
    "    l5 = LSTM(num*num, activation='relu', return_sequences=True)(l4)\n",
    "    output = TimeDistributed(Dense(x.shape[2]))(l5)\n",
    "    model = Model(inputs=inputs, outputs=output)\n",
    "    return model"
   ]
  },
  {
   "cell_type": "code",
   "execution_count": 12,
   "metadata": {},
   "outputs": [
    {
     "name": "stdout",
     "output_type": "stream",
     "text": [
      "WARNING:tensorflow:Layer lstm will not use cuDNN kernel since it doesn't meet the cuDNN kernel criteria. It will use generic GPU kernel as fallback when running on GPU\n",
      "WARNING:tensorflow:Layer lstm_1 will not use cuDNN kernel since it doesn't meet the cuDNN kernel criteria. It will use generic GPU kernel as fallback when running on GPU\n",
      "WARNING:tensorflow:Layer lstm_2 will not use cuDNN kernel since it doesn't meet the cuDNN kernel criteria. It will use generic GPU kernel as fallback when running on GPU\n",
      "WARNING:tensorflow:Layer lstm_3 will not use cuDNN kernel since it doesn't meet the cuDNN kernel criteria. It will use generic GPU kernel as fallback when running on GPU\n",
      "Model: \"functional_1\"\n",
      "_________________________________________________________________\n",
      "Layer (type)                 Output Shape              Param #   \n",
      "=================================================================\n",
      "input_1 (InputLayer)         [(None, 1, 5)]            0         \n",
      "_________________________________________________________________\n",
      "lstm (LSTM)                  (None, 1, 25)             3100      \n",
      "_________________________________________________________________\n",
      "lstm_1 (LSTM)                (None, 5)                 620       \n",
      "_________________________________________________________________\n",
      "repeat_vector (RepeatVector) (None, 1, 5)              0         \n",
      "_________________________________________________________________\n",
      "lstm_2 (LSTM)                (None, 1, 5)              220       \n",
      "_________________________________________________________________\n",
      "lstm_3 (LSTM)                (None, 1, 25)             3100      \n",
      "_________________________________________________________________\n",
      "time_distributed (TimeDistri (None, 1, 5)              130       \n",
      "=================================================================\n",
      "Total params: 7,170\n",
      "Trainable params: 7,170\n",
      "Non-trainable params: 0\n",
      "_________________________________________________________________\n"
     ]
    }
   ],
   "source": [
    "# let's actually build the network\n",
    "model = autoencoder_model(x_train, num_features)\n",
    "model.compile(optimizer='adam', loss='mae')\n",
    "model.summary()"
   ]
  },
  {
   "cell_type": "code",
   "execution_count": 14,
   "metadata": {},
   "outputs": [
    {
     "name": "stdout",
     "output_type": "stream",
     "text": [
      "Epoch 1/100\n",
      "682/682 [==============================] - 6s 8ms/step - loss: 0.1611 - val_loss: 0.0874\n",
      "Epoch 2/100\n",
      "682/682 [==============================] - 5s 7ms/step - loss: 0.0761 - val_loss: 0.0721\n",
      "Epoch 3/100\n",
      "682/682 [==============================] - 5s 7ms/step - loss: 0.0667 - val_loss: 0.0642\n",
      "Epoch 4/100\n",
      "682/682 [==============================] - 5s 7ms/step - loss: 0.0570 - val_loss: 0.0521\n",
      "Epoch 5/100\n",
      "682/682 [==============================] - 5s 7ms/step - loss: 0.0515 - val_loss: 0.0516\n",
      "Epoch 6/100\n",
      "682/682 [==============================] - 5s 7ms/step - loss: 0.0497 - val_loss: 0.0496\n",
      "Epoch 7/100\n",
      "682/682 [==============================] - 5s 7ms/step - loss: 0.0481 - val_loss: 0.0482\n",
      "Epoch 8/100\n",
      "682/682 [==============================] - 5s 7ms/step - loss: 0.0468 - val_loss: 0.0464\n",
      "Epoch 9/100\n",
      "682/682 [==============================] - 5s 7ms/step - loss: 0.0450 - val_loss: 0.0446\n",
      "Epoch 10/100\n",
      "682/682 [==============================] - 5s 7ms/step - loss: 0.0432 - val_loss: 0.0428\n",
      "Epoch 11/100\n",
      "682/682 [==============================] - 5s 7ms/step - loss: 0.0412 - val_loss: 0.0412\n",
      "Epoch 12/100\n",
      "682/682 [==============================] - 5s 7ms/step - loss: 0.0393 - val_loss: 0.0383\n",
      "Epoch 13/100\n",
      "682/682 [==============================] - 5s 7ms/step - loss: 0.0374 - val_loss: 0.0371\n",
      "Epoch 14/100\n",
      "682/682 [==============================] - 5s 7ms/step - loss: 0.0363 - val_loss: 0.0356\n",
      "Epoch 15/100\n",
      "682/682 [==============================] - 5s 8ms/step - loss: 0.0353 - val_loss: 0.0354\n",
      "Epoch 16/100\n",
      "682/682 [==============================] - 5s 7ms/step - loss: 0.0344 - val_loss: 0.0342\n",
      "Epoch 17/100\n",
      "682/682 [==============================] - 5s 7ms/step - loss: 0.0336 - val_loss: 0.0333\n",
      "Epoch 18/100\n",
      "682/682 [==============================] - 5s 7ms/step - loss: 0.0327 - val_loss: 0.0328\n",
      "Epoch 19/100\n",
      "682/682 [==============================] - 5s 7ms/step - loss: 0.0319 - val_loss: 0.0320\n",
      "Epoch 20/100\n",
      "682/682 [==============================] - 5s 7ms/step - loss: 0.0311 - val_loss: 0.0325\n",
      "Epoch 21/100\n",
      "682/682 [==============================] - 5s 7ms/step - loss: 0.0303 - val_loss: 0.0312\n",
      "Epoch 22/100\n",
      "682/682 [==============================] - 5s 7ms/step - loss: 0.0292 - val_loss: 0.0294\n",
      "Epoch 23/100\n",
      "682/682 [==============================] - 5s 7ms/step - loss: 0.0277 - val_loss: 0.0285\n",
      "Epoch 24/100\n",
      "682/682 [==============================] - 5s 7ms/step - loss: 0.0262 - val_loss: 0.0248\n",
      "Epoch 25/100\n",
      "682/682 [==============================] - 5s 7ms/step - loss: 0.0242 - val_loss: 0.0238\n",
      "Epoch 26/100\n",
      "682/682 [==============================] - 5s 7ms/step - loss: 0.0233 - val_loss: 0.0229\n",
      "Epoch 27/100\n",
      "682/682 [==============================] - 5s 7ms/step - loss: 0.0227 - val_loss: 0.0229\n",
      "Epoch 28/100\n",
      "682/682 [==============================] - 5s 7ms/step - loss: 0.0222 - val_loss: 0.0216\n",
      "Epoch 29/100\n",
      "682/682 [==============================] - 5s 7ms/step - loss: 0.0217 - val_loss: 0.0219\n",
      "Epoch 30/100\n",
      "682/682 [==============================] - 5s 7ms/step - loss: 0.0215 - val_loss: 0.0218\n",
      "Epoch 31/100\n",
      "682/682 [==============================] - 5s 7ms/step - loss: 0.0212 - val_loss: 0.0210\n",
      "Epoch 32/100\n",
      "682/682 [==============================] - 5s 7ms/step - loss: 0.0210 - val_loss: 0.0212\n",
      "Epoch 33/100\n",
      "682/682 [==============================] - 5s 7ms/step - loss: 0.0207 - val_loss: 0.0203\n",
      "Epoch 34/100\n",
      "682/682 [==============================] - 5s 7ms/step - loss: 0.0204 - val_loss: 0.0195\n",
      "Epoch 35/100\n",
      "682/682 [==============================] - 5s 8ms/step - loss: 0.0202 - val_loss: 0.0211\n",
      "Epoch 36/100\n",
      "682/682 [==============================] - 5s 8ms/step - loss: 0.0200 - val_loss: 0.0189\n",
      "Epoch 37/100\n",
      "682/682 [==============================] - 5s 7ms/step - loss: 0.0198 - val_loss: 0.0197\n",
      "Epoch 38/100\n",
      "682/682 [==============================] - 5s 7ms/step - loss: 0.0197 - val_loss: 0.0190\n",
      "Epoch 39/100\n",
      "682/682 [==============================] - 5s 8ms/step - loss: 0.0197 - val_loss: 0.0194\n",
      "Epoch 40/100\n",
      "682/682 [==============================] - 5s 8ms/step - loss: 0.0195 - val_loss: 0.0188\n",
      "Epoch 41/100\n",
      "682/682 [==============================] - 5s 7ms/step - loss: 0.0195 - val_loss: 0.0191\n",
      "Epoch 42/100\n",
      "682/682 [==============================] - 5s 7ms/step - loss: 0.0195 - val_loss: 0.0194\n"
     ]
    },
    {
     "data": {
      "text/plain": [
       "42"
      ]
     },
     "execution_count": 14,
     "metadata": {},
     "output_type": "execute_result"
    }
   ],
   "source": [
    "# training time\n",
    "callback = tf.keras.callbacks.EarlyStopping(monitor='loss', mode=\"min\", restore_best_weights=True, min_delta=0.0005, patience=5)\n",
    "nb_epochs = 100\n",
    "batch_size = 10\n",
    "history = model.fit(x_train, x_train, epochs=nb_epochs, batch_size=batch_size,\n",
    "                   validation_split=0.1, callbacks=[callback]).history\n",
    "len(history['loss'])"
   ]
  },
  {
   "cell_type": "code",
   "execution_count": 15,
   "metadata": {},
   "outputs": [
    {
     "data": {
      "image/png": "[encoded data removed]",
      "text/plain": [
       "<Figure size 1120x480 with 1 Axes>"
      ]
     },
     "metadata": {
      "needs_background": "light"
     },
     "output_type": "display_data"
    }
   ],
   "source": [
    "fig, ax = plt.subplots(figsize=(14,6), dpi=80)\n",
    "ax.plot(history['loss'], 'b', label='Train', linewidth=2)\n",
    "ax.plot(history['val_loss'], 'r', label='Validation', linewidth=2)\n",
    "ax.set_title('Model loss', fontsize=16)\n",
    "ax.set_ylabel('Loss (mae)')\n",
    "ax.set_xlabel('Epoch')\n",
    "ax.legend(loc='upper right')\n",
    "plt.show()"
   ]
  },
  {
   "cell_type": "code",
   "execution_count": 20,
   "metadata": {},
   "outputs": [
    {
     "name": "stdout",
     "output_type": "stream",
     "text": [
      "0.04648896553402856\n"
     ]
    },
    {
     "data": {
      "image/png": "[encoded data removed]",
      "text/plain": [
       "<Figure size 1280x720 with 1 Axes>"
      ]
     },
     "metadata": {
      "needs_background": "light"
     },
     "output_type": "display_data"
    }
   ],
   "source": [
    "# loss distribution to determine threshold for anomaly\n",
    "x_pred = model.predict(x_train)\n",
    "x_pred = x_pred.reshape(x_pred.shape[0], x_pred.shape[2])\n",
    "x_pred = pd.DataFrame(x_pred, columns=train.columns)\n",
    "x_pred.index = train.index\n",
    "\n",
    "scored = pd.DataFrame(index=train.index)\n",
    "xtrain = x_train.reshape(x_train.shape[0], x_train.shape[2])\n",
    "scored['Loss_mae'] = np.mean(np.abs(x_pred - xtrain), axis=1)\n",
    "plt.figure(figsize=(16,9), dpi=80)\n",
    "plt.title('Loss Distribution', fontsize=16)\n",
    "\n",
    "scoreSorted = np.sort(scored['Loss_mae'])\n",
    "threshold = scoreSorted[int(0.97 * len(scoreSorted))]\n",
    "sns.distplot(scored['Loss_mae'], bins=20, kde=True, color='blue');\n",
    "\n",
    "print(threshold)"
   ]
  },
  {
   "cell_type": "code",
   "execution_count": 21,
   "metadata": {},
   "outputs": [
    {
     "name": "stdout",
     "output_type": "stream",
     "text": [
      "25\n"
     ]
    }
   ],
   "source": [
    "# do anomaly thingy on the test set\n",
    "x_pred = model.predict(x_test)\n",
    "x_pred = x_pred.reshape(x_pred.shape[0], x_pred.shape[2])\n",
    "x_pred = pd.DataFrame(x_pred, columns=test.columns)\n",
    "x_pred.index = test.index\n",
    "\n",
    "scored = pd.DataFrame(index=test.index)\n",
    "xtest = x_test.reshape(x_test.shape[0], x_test.shape[2])\n",
    "scored['Loss_mae'] = np.mean(np.abs(x_pred-xtest), axis = 1)\n",
    "scored['Threshold'] = threshold\n",
    "scored['Anomaly'] = scored['Loss_mae'] > scored['Threshold']\n",
    "scored.head()\n",
    "\n",
    "countAnom = 0\n",
    "for i in range(len(scored)):\n",
    "    if scored['Anomaly'][i] == True:\n",
    "        countAnom = countAnom + 1\n",
    "        \n",
    "print(countAnom)"
   ]
  },
  {
   "cell_type": "code",
   "execution_count": 22,
   "metadata": {},
   "outputs": [
    {
     "name": "stdout",
     "output_type": "stream",
     "text": [
      "0\n"
     ]
    }
   ],
   "source": [
    "x_pred_train = model.predict(x_train)\n",
    "x_pred_train = x_pred_train.reshape(x_pred_train.shape[0], x_pred_train.shape[2])\n",
    "x_pred_train = pd.DataFrame(x_pred_train, columns=test.columns)\n",
    "x_pred_train.index = train.index\n",
    "\n",
    "scored_train = pd.DataFrame(index=test.index)\n",
    "scored_train['Loss_mae'] = np.mean(np.abs(x_pred_train-xtrain), axis = 1)\n",
    "scored_train['Threshold'] = threshold\n",
    "scored_train['Anomaly'] = scored_train['Loss_mae'] > scored_train['Threshold']\n",
    "scored = pd.concat([scored_train, scored])\n",
    "\n",
    "countAnom = 0\n",
    "for i in range(len(scored_train)):\n",
    "    if scored_train['Anomaly'][i] == True:\n",
    "        countAnom = countAnom + 1\n",
    "        \n",
    "print(countAnom)"
   ]
  },
  {
   "cell_type": "code",
   "execution_count": 23,
   "metadata": {},
   "outputs": [
    {
     "data": {
      "text/plain": [
       "<AxesSubplot:xlabel='Time'>"
      ]
     },
     "execution_count": 23,
     "metadata": {},
     "output_type": "execute_result"
    },
    {
     "data": {
      "image/png": "[encoded data removed]",
      "text/plain": [
       "<Figure size 1152x648 with 1 Axes>"
      ]
     },
     "metadata": {
      "needs_background": "light"
     },
     "output_type": "display_data"
    }
   ],
   "source": [
    "scored.plot(logy = True, figsize=(16,9), color=['blue','red'])"
   ]
  },
  {
   "cell_type": "code",
   "execution_count": 24,
   "metadata": {},
   "outputs": [],
   "source": [
    "# saves the model to a file for use\n",
    "model.save(\"user1_model.h5\")"
   ]
  },
  {
   "cell_type": "code",
   "execution_count": null,
   "metadata": {},
   "outputs": [],
   "source": []
  }
 ],
 "metadata": {
  "kernelspec": {
   "display_name": "Python 3",
   "language": "python",
   "name": "python3"
  },
  "language_info": {
   "codemirror_mode": {
    "name": "ipython",
    "version": 3
   },
   "file_extension": ".py",
   "mimetype": "text/x-python",
   "name": "python",
   "nbconvert_exporter": "python",
   "pygments_lexer": "ipython3",
   "version": "3.8.5"
  }
 },
 "nbformat": 4,
 "nbformat_minor": 4
}
